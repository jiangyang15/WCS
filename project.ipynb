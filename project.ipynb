{
 "cells": [
  {
   "cell_type": "code",
   "execution_count": 1,
   "metadata": {},
   "outputs": [],
   "source": [
    "# Import helper function file for WCS data analysis\n",
    "from wcs_helper_functions import *\n",
    "\n",
    "# Import relevant Python libraries\n",
    "import numpy as np\n",
    "from scipy import stats\n",
    "from random import random\n",
    "%matplotlib inline"
   ]
  },
  {
   "cell_type": "code",
   "execution_count": 5,
   "metadata": {},
   "outputs": [
    {
     "data": {
      "text/plain": [
       "{1: 'IT',\n",
       " 2: 'AT',\n",
       " 3: 'NR',\n",
       " 4: 'IR',\n",
       " 5: 'YN',\n",
       " 6: 'AT',\n",
       " 7: 'YN',\n",
       " 8: 'NR',\n",
       " 9: 'AT',\n",
       " 10: 'IR',\n",
       " 11: 'YN',\n",
       " 12: 'AA',\n",
       " 13: 'AW',\n",
       " 14: 'IR',\n",
       " 15: 'AT',\n",
       " 16: 'EP',\n",
       " 17: 'NR',\n",
       " 18: 'KA',\n",
       " 19: 'IR',\n",
       " 20: 'YN',\n",
       " 21: 'NR',\n",
       " 22: 'AT',\n",
       " 23: 'IR',\n",
       " 24: 'AT',\n",
       " 25: 'YN',\n",
       " 26: 'IR',\n",
       " 27: 'AT',\n",
       " 28: 'NR',\n",
       " 29: 'YN',\n",
       " 30: 'AT',\n",
       " 31: 'IR',\n",
       " 32: 'NR',\n",
       " 33: 'YN',\n",
       " 34: 'IR',\n",
       " 35: 'NR',\n",
       " 36: 'YN',\n",
       " 37: 'IR',\n",
       " 38: 'NR',\n",
       " 39: 'YN',\n",
       " 40: 'IR',\n",
       " 41: 'NR',\n",
       " 42: 'AT',\n",
       " 43: 'IR',\n",
       " 44: 'EP',\n",
       " 45: 'YN',\n",
       " 46: 'TK',\n",
       " 47: 'TK',\n",
       " 48: 'AA',\n",
       " 49: 'YN',\n",
       " 50: 'NR',\n",
       " 51: 'KA',\n",
       " 52: 'EP',\n",
       " 53: 'NR',\n",
       " 54: 'YN',\n",
       " 55: 'IR',\n",
       " 56: 'NR',\n",
       " 57: 'YN',\n",
       " 58: 'KA',\n",
       " 59: 'EP',\n",
       " 60: 'IR',\n",
       " 61: 'NR',\n",
       " 62: 'IR',\n",
       " 63: 'NR',\n",
       " 64: 'IR',\n",
       " 65: 'NR',\n",
       " 66: 'EP',\n",
       " 67: 'YN',\n",
       " 68: 'NR',\n",
       " 69: 'KA',\n",
       " 70: 'EP',\n",
       " 71: 'NR',\n",
       " 72: 'YN',\n",
       " 73: 'IR',\n",
       " 74: 'EP',\n",
       " 75: 'YN',\n",
       " 76: 'NR',\n",
       " 77: 'YN',\n",
       " 78: 'NR',\n",
       " 79: 'KA',\n",
       " 80: 'IR',\n",
       " 81: 'YN',\n",
       " 82: 'YN',\n",
       " 83: 'EP',\n",
       " 84: 'NR',\n",
       " 85: 'YN',\n",
       " 86: 'NR',\n",
       " 87: 'AT',\n",
       " 88: 'NR',\n",
       " 89: 'TK',\n",
       " 90: 'YN',\n",
       " 91: 'AA',\n",
       " 92: 'EP',\n",
       " 93: 'IR',\n",
       " 94: 'AT',\n",
       " 95: 'EP',\n",
       " 96: 'AA',\n",
       " 97: 'IR',\n",
       " 98: 'NR',\n",
       " 99: 'EP',\n",
       " 100: 'YN',\n",
       " 101: 'NR',\n",
       " 102: 'EP',\n",
       " 103: 'AT',\n",
       " 104: 'IR',\n",
       " 105: 'NR',\n",
       " 106: 'EP',\n",
       " 107: 'EP',\n",
       " 108: 'EP',\n",
       " 109: 'IR',\n",
       " 110: 'AA',\n",
       " 111: 'TK',\n",
       " 112: 'NR',\n",
       " 113: 'TK',\n",
       " 114: 'YN',\n",
       " 115: 'NR',\n",
       " 116: 'EP',\n",
       " 117: 'TK',\n",
       " 118: 'NR',\n",
       " 119: 'YN',\n",
       " 120: 'EP',\n",
       " 121: 'NR',\n",
       " 122: 'YN',\n",
       " 123: 'TK',\n",
       " 124: 'YN',\n",
       " 125: 'NR',\n",
       " 126: 'NR',\n",
       " 127: 'TK',\n",
       " 128: 'AA',\n",
       " 129: 'EP',\n",
       " 130: 'TK',\n",
       " 131: 'IR',\n",
       " 132: 'NR',\n",
       " 133: 'YN',\n",
       " 134: 'TK',\n",
       " 135: 'NR',\n",
       " 136: 'YN',\n",
       " 137: 'YN',\n",
       " 138: 'IR',\n",
       " 139: 'EP',\n",
       " 140: 'IR',\n",
       " 141: 'EP',\n",
       " 142: 'EP',\n",
       " 143: 'YN',\n",
       " 144: 'IR',\n",
       " 145: 'YN',\n",
       " 146: 'AA',\n",
       " 147: 'YN',\n",
       " 148: 'NR',\n",
       " 149: 'YN',\n",
       " 150: 'IR',\n",
       " 151: 'NR',\n",
       " 152: 'IR',\n",
       " 153: 'IT',\n",
       " 154: 'TK',\n",
       " 155: 'TK',\n",
       " 156: 'YN',\n",
       " 157: 'TK',\n",
       " 158: 'EP',\n",
       " 159: 'AT',\n",
       " 160: 'NR',\n",
       " 161: 'YN',\n",
       " 162: 'NR',\n",
       " 163: 'YN',\n",
       " 164: 'IT',\n",
       " 165: 'AT',\n",
       " 166: 'TK',\n",
       " 167: 'EP',\n",
       " 168: 'YN',\n",
       " 169: 'IT',\n",
       " 170: 'TK',\n",
       " 171: 'YN',\n",
       " 172: 'EP',\n",
       " 173: 'NR',\n",
       " 174: 'AA',\n",
       " 175: 'EP',\n",
       " 176: 'NR',\n",
       " 177: 'AT',\n",
       " 178: 'IR',\n",
       " 179: 'TK',\n",
       " 180: 'YN',\n",
       " 181: 'AT',\n",
       " 182: 'TK',\n",
       " 183: 'TK',\n",
       " 184: 'IR',\n",
       " 185: 'AT',\n",
       " 186: 'YN',\n",
       " 187: 'AA',\n",
       " 188: 'YN',\n",
       " 189: 'EP',\n",
       " 190: 'NR',\n",
       " 191: 'YN',\n",
       " 192: 'IR',\n",
       " 193: 'AT',\n",
       " 194: 'TK',\n",
       " 195: 'YN',\n",
       " 196: 'YN',\n",
       " 197: 'IR',\n",
       " 198: 'TK',\n",
       " 199: 'EP',\n",
       " 200: 'YN',\n",
       " 201: 'NR',\n",
       " 202: 'YN',\n",
       " 203: 'NR',\n",
       " 204: 'TK',\n",
       " 205: 'TK',\n",
       " 206: 'EP',\n",
       " 207: 'NR',\n",
       " 208: 'AT',\n",
       " 209: 'YN',\n",
       " 210: 'TK',\n",
       " 211: 'IR',\n",
       " 212: 'AA',\n",
       " 213: 'EP',\n",
       " 214: 'YN',\n",
       " 215: 'NR',\n",
       " 216: 'TK',\n",
       " 217: 'NR',\n",
       " 218: 'AA',\n",
       " 219: 'EP',\n",
       " 220: 'IR',\n",
       " 221: 'EP',\n",
       " 222: 'TK',\n",
       " 223: 'YN',\n",
       " 224: 'EP',\n",
       " 225: 'AA',\n",
       " 226: 'YN',\n",
       " 227: 'TK',\n",
       " 228: 'IR',\n",
       " 229: 'YN',\n",
       " 230: 'EP',\n",
       " 231: 'NR',\n",
       " 232: 'AT',\n",
       " 233: 'IR',\n",
       " 234: 'YN',\n",
       " 235: 'IR',\n",
       " 236: 'AA',\n",
       " 237: 'NR',\n",
       " 238: 'YN',\n",
       " 239: 'NR',\n",
       " 240: 'TK',\n",
       " 241: 'EP',\n",
       " 242: 'AA',\n",
       " 243: 'NR',\n",
       " 244: 'EP',\n",
       " 245: 'NR',\n",
       " 246: 'YN',\n",
       " 247: 'IR',\n",
       " 248: 'TK',\n",
       " 249: 'YN',\n",
       " 250: 'IR',\n",
       " 251: 'YN',\n",
       " 252: 'EP',\n",
       " 253: 'YN',\n",
       " 254: 'EP',\n",
       " 255: 'TK',\n",
       " 256: 'NR',\n",
       " 257: 'TK',\n",
       " 258: 'AA',\n",
       " 259: 'NR',\n",
       " 260: 'EP',\n",
       " 261: 'AA',\n",
       " 262: 'EP',\n",
       " 263: 'TK',\n",
       " 264: 'EP',\n",
       " 265: 'YN',\n",
       " 266: 'NR',\n",
       " 267: 'NR',\n",
       " 268: 'YN',\n",
       " 269: 'NR',\n",
       " 270: 'AA',\n",
       " 271: 'YN',\n",
       " 272: 'EP',\n",
       " 273: 'NR',\n",
       " 274: 'EP',\n",
       " 275: 'AA',\n",
       " 276: 'NR',\n",
       " 277: 'IR',\n",
       " 278: 'AA',\n",
       " 279: 'IR',\n",
       " 280: 'YN',\n",
       " 281: 'YN',\n",
       " 282: 'YN',\n",
       " 283: 'AT',\n",
       " 284: 'EP',\n",
       " 285: 'NR',\n",
       " 286: 'EP',\n",
       " 287: 'AA',\n",
       " 288: 'NR',\n",
       " 289: 'YN',\n",
       " 290: 'EP',\n",
       " 291: 'IR',\n",
       " 292: 'NR',\n",
       " 293: 'EP',\n",
       " 294: 'EP',\n",
       " 295: 'TK',\n",
       " 296: 'IR',\n",
       " 297: 'AA',\n",
       " 298: 'NR',\n",
       " 299: 'YN',\n",
       " 300: 'EP',\n",
       " 301: 'YN',\n",
       " 302: 'EP',\n",
       " 303: 'EP',\n",
       " 304: 'YN',\n",
       " 305: 'IR',\n",
       " 306: 'YN',\n",
       " 307: 'YN',\n",
       " 308: 'IR',\n",
       " 309: 'TK',\n",
       " 310: 'YN',\n",
       " 311: 'IR',\n",
       " 312: 'TK',\n",
       " 313: 'IR',\n",
       " 314: 'EP',\n",
       " 315: 'YN',\n",
       " 316: 'YN',\n",
       " 317: 'NR',\n",
       " 318: 'AA',\n",
       " 319: 'EP',\n",
       " 320: 'AT',\n",
       " 321: 'NR',\n",
       " 322: 'IR',\n",
       " 323: 'YN',\n",
       " 324: 'EP',\n",
       " 325: 'NR',\n",
       " 326: 'AA',\n",
       " 327: 'EP',\n",
       " 328: 'YN',\n",
       " 329: 'AT',\n",
       " 330: 'EP'}"
      ]
     },
     "execution_count": 5,
     "metadata": {},
     "output_type": "execute_result"
    }
   ],
   "source": [
    "# Load naming data\n",
    "namingData = readNamingData('./WCS_data_core/term.txt');\n",
    "\n",
    "# \"namingData\" is a hierarchical dictionary organized by language->speaker->chip index(key)-color term(value)\n",
    "# For example, to obtain naming data from language 1 and speaker 1 for all 330 color chips:\n",
    "namingData[2][2] # Delete the semicolon to display data in full (long)\n",
    "# language, speaker, chip\n",
    "\n",
    "#len(namingData)\n",
    "#len(namingData[1])\n",
    "# Note: Index for languages ranges from 1 to 110 (i.e. 110 languages in total);\n",
    "# index for speakers begins with 1, but its range varies depending on language\n",
    "# For example, to see how many speakers language 1 has:\n",
    "#len(namingData[1])"
   ]
  },
  {
   "cell_type": "code",
   "execution_count": 4,
   "metadata": {},
   "outputs": [
    {
     "name": "stdout",
     "output_type": "stream",
     "text": [
      "{1: [('90', 'M')], 2: [('26', 'M')], 3: [('38', 'M')], 4: [('35', 'M')], 5: [('80', 'M')], 6: [('48', 'M')], 7: [('26', 'M')], 8: [('39', 'M')], 9: [('47', 'F')], 10: [('49', 'M')], 11: [('40', 'F')], 12: [('45', 'M')], 13: [('50', 'M')], 14: [('30', 'M')], 15: [('21', 'M')], 16: [('60', 'F')], 17: [('32', 'M')], 18: [('67', 'M')], 19: [('15', 'M')], 20: [('42', 'M')], 21: [('40', 'M')], 22: [('47', 'M')], 23: [('23', 'F')], 24: [('45', 'F')], 25: [('30', 'F')]}\n"
     ]
    }
   ],
   "source": [
    "# Load speaker information\n",
    "speakerInfo = readSpeakerData('./WCS_data_core/spkr-lsas.txt')\n",
    "\n",
    "# \"speakerInfo\" is a hierarchical dictionary organized by language->speaker(key)-(age,gender)(value)\n",
    "# To access (age, gender) information for all speakers from language 1\n",
    "print(speakerInfo[1])"
   ]
  },
  {
   "cell_type": "code",
   "execution_count": 6,
   "metadata": {},
   "outputs": [
    {
     "name": "stdout",
     "output_type": "stream",
     "text": [
      "['AA' 'AT' 'AW' 'EP' 'IR' 'IT' 'KA' 'NR' 'TK' 'YN']\n"
     ]
    }
   ],
   "source": [
    "# calculate average number of color naming for each age\n",
    "all_category = [namingData[2][2][key] for key in namingData[2][2]]\n",
    "unique_categories = np.unique(all_category)\n",
    "print(unique_categories)"
   ]
  },
  {
   "cell_type": "code",
   "execution_count": 7,
   "metadata": {},
   "outputs": [
    {
     "name": "stdout",
     "output_type": "stream",
     "text": [
      "{1: (1, 2)}\n"
     ]
    }
   ],
   "source": [
    "test = (1,2)\n",
    "dict = {}\n",
    "dict[1] = test\n",
    "print(dict)"
   ]
  },
  {
   "cell_type": "code",
   "execution_count": 42,
   "metadata": {},
   "outputs": [
    {
     "name": "stdout",
     "output_type": "stream",
     "text": [
      "{1: (6, '90'), 2: (7, '26'), 3: (6, '38'), 4: (6, '35'), 5: (7, '80'), 6: (6, '48'), 7: (7, '26'), 8: (7, '39'), 9: (7, '47'), 10: (7, '49'), 11: (8, '40'), 12: (6, '45'), 13: (8, '50'), 14: (8, '30'), 15: (6, '21'), 16: (7, '60'), 17: (7, '32'), 18: (6, '67'), 19: (7, '15'), 20: (5, '42'), 21: (7, '40'), 22: (7, '47'), 23: (6, '23'), 24: (7, '45'), 25: (6, '30')}\n"
     ]
    }
   ],
   "source": [
    "age_categories = {}\n",
    "\n",
    "for lang in range(1, len(namingData)+1):\n",
    "    age_categories[lang] = {}\n",
    "    for ptcp in range(1, len(namingData[lang])+1): # number of participants for language 'lang'\n",
    "        # get number of categories\n",
    "        total = [namingData[lang][ptcp][key] for key in namingData[lang][ptcp]]\n",
    "        num_categories = len(np.unique(total))\n",
    "        \n",
    "        # get age\n",
    "        try: \n",
    "            age = speakerInfo[lang][ptcp][0][0]\n",
    "        except:\n",
    "            continue\n",
    "        \n",
    "        # get pair\n",
    "        pair = (num_categories, age)\n",
    "        \n",
    "        age_categories[lang][ptcp] = pair\n",
    "        \n",
    "print(age_categories[1])"
   ]
  },
  {
   "cell_type": "code",
   "execution_count": 52,
   "metadata": {},
   "outputs": [
    {
     "name": "stdout",
     "output_type": "stream",
     "text": [
      "0.69651415966\n"
     ]
    }
   ],
   "source": [
    "import matplotlib.pyplot as plt\n",
    "correlation_list = []\n",
    "for lang in range(1, len(namingData)+1):\n",
    "    \n",
    "    age = [int(age_categories[lang][key][1]) for key in age_categories[lang]]\n",
    "    num = [age_categories[lang][key][0] for key in age_categories[lang]]\n",
    "    correlation_list.append(stats.pearsonr(age, num)[0])\n",
    "    plt.scatter(age, num)\n",
    "\n",
    "print(max(correlation_list))\n",
    "\n",
    "## report: individual language too little participants/datapoints"
   ]
  },
  {
   "cell_type": "code",
   "execution_count": 41,
   "metadata": {},
   "outputs": [
    {
     "data": {
      "text/plain": [
       "{1: [('29', 'M')],\n",
       " 2: [('20', 'M')],\n",
       " 3: [('40', 'F')],\n",
       " 4: [('16', 'F')],\n",
       " 5: [('24', 'M')],\n",
       " 6: [('30', 'M')]}"
      ]
     },
     "execution_count": 41,
     "metadata": {},
     "output_type": "execute_result"
    }
   ],
   "source": [
    "speakerInfo[5]"
   ]
  },
  {
   "cell_type": "code",
   "execution_count": 49,
   "metadata": {},
   "outputs": [
    {
     "data": {
      "text/plain": [
       "(-0.08653838187912398, 0.68762993802479322)"
      ]
     },
     "execution_count": 49,
     "metadata": {},
     "output_type": "execute_result"
    }
   ],
   "source": [
    "stats.pearsonr(age, num)"
   ]
  },
  {
   "cell_type": "code",
   "execution_count": 54,
   "metadata": {},
   "outputs": [
    {
     "data": {
      "image/png": "[encoded data removed]",
      "text/plain": [
       "<matplotlib.figure.Figure at 0x113731b38>"
      ]
     },
     "metadata": {},
     "output_type": "display_data"
    }
   ],
   "source": [
    "x = [i for i in range(1, len(namingData)+1)]\n",
    "plt.scatter(x, correlation_list)\n",
    "plt.show()"
   ]
  },
  {
   "cell_type": "code",
   "execution_count": 60,
   "metadata": {},
   "outputs": [
    {
     "data": {
      "text/plain": [
       "(16, 12)"
      ]
     },
     "execution_count": 60,
     "metadata": {},
     "output_type": "execute_result"
    }
   ],
   "source": [
    "y = len([correlation_list[i] for i in range(len(namingData)) if correlation_list[i] > 0.3])\n",
    "z = len([correlation_list[i] for i in range(len(namingData)) if correlation_list[i] < -0.3])\n",
    "y, z"
   ]
  },
  {
   "cell_type": "code",
   "execution_count": null,
   "metadata": {},
   "outputs": [],
   "source": []
  }
 ],
 "metadata": {
  "kernelspec": {
   "display_name": "Python 3",
   "language": "python",
   "name": "python3"
  },
  "language_info": {
   "codemirror_mode": {
    "name": "ipython",
    "version": 3
   },
   "file_extension": ".py",
   "mimetype": "text/x-python",
   "name": "python",
   "nbconvert_exporter": "python",
   "pygments_lexer": "ipython3",
   "version": "3.6.1"
  }
 },
 "nbformat": 4,
 "nbformat_minor": 2
}
