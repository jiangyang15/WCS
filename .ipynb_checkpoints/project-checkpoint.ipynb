{
 "cells": [
  {
   "cell_type": "code",
   "execution_count": 3,
   "metadata": {},
   "outputs": [],
   "source": [
    "# Import helper function file for WCS data analysis\n",
    "from wcs_helper_functions import *\n",
    "\n",
    "# Import relevant Python libraries\n",
    "import numpy as np\n",
    "from scipy import stats\n",
    "from random import random\n",
    "%matplotlib inline"
   ]
  },
  {
   "cell_type": "code",
   "execution_count": 4,
   "metadata": {},
   "outputs": [],
   "source": [
    "# Load naming data\n",
    "namingData = readNamingData('./WCS_data_core/term.txt');\n",
    "\n",
    "# \"namingData\" is a hierarchical dictionary organized by language->speaker->chip index(key)-color term(value)\n",
    "# For example, to obtain naming data from language 1 and speaker 1 for all 330 color chips:\n",
    "# Delete the semicolon to display data in full (long)\n",
    "\n",
    "# language, speaker, chip\n",
    "\n",
    "#len(namingData)\n",
    "#len(namingData[1])\n",
    "# Note: Index for languages ranges from 1 to 110 (i.e. 110 languages in total);\n",
    "# index for speakers begins with 1, but its range varies depending on language\n",
    "# For example, to see how many speakers language 1 has:\n",
    "#len(namingData[1])"
   ]
  },
  {
   "cell_type": "code",
   "execution_count": 6,
   "metadata": {},
   "outputs": [
    {
     "name": "stdout",
     "output_type": "stream",
     "text": [
      "{1: [('29', 'M')], 2: [('20', 'M')], 3: [('40', 'F')], 4: [('16', 'F')], 5: [('24', 'M')], 6: [('30', 'M')]}\n"
     ]
    }
   ],
   "source": [
    "# Load speaker information\n",
    "speakerInfo = readSpeakerData('./WCS_data_core/spkr-lsas.txt')\n",
    "\n",
    "# \"speakerInfo\" is a hierarchical dictionary organized by language->speaker(key)-(age,gender)(value)\n",
    "# To access (age, gender) information for all speakers from language 1\n",
    "print(speakerInfo[5])"
   ]
  },
  {
   "cell_type": "code",
   "execution_count": 7,
   "metadata": {},
   "outputs": [
    {
     "name": "stdout",
     "output_type": "stream",
     "text": [
      "['AA' 'AT' 'AW' 'EP' 'IR' 'IT' 'KA' 'NR' 'TK' 'YN']\n"
     ]
    }
   ],
   "source": [
    "# calculate average number of color naming for each age\n",
    "all_category = [namingData[2][2][key] for key in namingData[2][2]]\n",
    "unique_categories = np.unique(all_category)\n",
    "print(unique_categories)"
   ]
  },
  {
   "cell_type": "code",
   "execution_count": 174,
   "metadata": {},
   "outputs": [
    {
     "name": "stdout",
     "output_type": "stream",
     "text": [
      "{1: (8, 40), 2: (10, 35), 3: (11, 55), 4: (8, 45), 5: (13, 18), 6: (10, 25), 7: (8, 32), 8: (11, 27), 9: (9, 37), 10: (7, 25), 11: (10, 50), 12: (8, 22), 13: (16, 52), 14: (7, 50), 15: (8, 50), 16: (17, 32), 17: (22, 30), 18: (13, 36), 19: (11, 37), 20: (10, 34), 21: (6, 40), 22: (7, 50), 23: (11, 30), 24: (12, 25), 25: (10, 25), 26: (16, 35), 27: (11, 32)}\n"
     ]
    }
   ],
   "source": [
    "age_categories = {}\n",
    "all_ptcp = []\n",
    "for lang in range(1, len(namingData)+1):\n",
    "    age_categories[lang] = {}\n",
    "    for ptcp in range(1, len(namingData[lang])+1): # number of participants for language 'lang'\n",
    "        # get number of categories\n",
    "        total = [namingData[lang][ptcp][key] for key in namingData[lang][ptcp]]\n",
    "        num_categories = len(np.unique(total))\n",
    "        \n",
    "        # get age\n",
    "        try: \n",
    "            age = speakerInfo[lang][ptcp][0][0]\n",
    "        except:\n",
    "            continue\n",
    "        \n",
    "        # get pair\n",
    "        pair = (num_categories, int(age))\n",
    "        all_ptcp.append(pair)\n",
    "        age_categories[lang][ptcp] = pair\n",
    "        \n",
    "print(age_categories[6])"
   ]
  },
  {
   "cell_type": "code",
   "execution_count": null,
   "metadata": {},
   "outputs": [],
   "source": []
  },
  {
   "cell_type": "code",
   "execution_count": 297,
   "metadata": {},
   "outputs": [
    {
     "data": {
      "image/png": "[encoded data removed]",
      "text/plain": [
       "<Figure size 432x288 with 1 Axes>"
      ]
     },
     "metadata": {},
     "output_type": "display_data"
    },
    {
     "data": {
      "image/png": "[encoded data removed]",
      "text/plain": [
       "<Figure size 432x288 with 1 Axes>"
      ]
     },
     "metadata": {},
     "output_type": "display_data"
    },
    {
     "data": {
      "image/png": "[encoded data removed]",
      "text/plain": [
       "<Figure size 432x288 with 1 Axes>"
      ]
     },
     "metadata": {},
     "output_type": "display_data"
    },
    {
     "data": {
      "text/plain": [
       "40"
      ]
     },
     "execution_count": 297,
     "metadata": {},
     "output_type": "execute_result"
    }
   ],
   "source": [
    "all_ptcp_by_age = {}\n",
    "# all participants group by their age\n",
    "for pair in all_ptcp:\n",
    "    age = pair[1]\n",
    "    cat = pair[0]\n",
    "    if age not in all_ptcp_by_age:\n",
    "        all_ptcp_by_age[age] = [cat]\n",
    "    else:\n",
    "        all_ptcp_by_age[age].append(cat)\n",
    "\n",
    "avg_cat_per_age = {}\n",
    "# average number of categories by each age (0 - 91)\n",
    "for key in sorted(all_ptcp_by_age):\n",
    "    #we don't use data if the number of participants in this age is small than 15\n",
    "    #since sample size is too small\n",
    "    if len(age_to_cat[key]) < 15:\n",
    "        continue\n",
    "    avg_cat_per_age[key] = np.mean(all_ptcp_by_age[key])\n",
    "\n",
    "plt.scatter(avg_cat_per_age.keys(), avg_cat_per_age.values())\n",
    "plt.show()\n",
    "\n",
    "cat_per_age_group = [[]] * 10\n",
    "# average number of categories by age groups(10 groups: 10s, 20s, 30s, 40s, ...)\n",
    "for i in sorted(all_ptcp_by_age):\n",
    "    group = i // 10\n",
    "    temp = cat_per_age_group[group]\n",
    "    cat_per_age_group[group] = temp + all_ptcp_by_age[i]\n",
    "avg_cat_per_age_group = [np.mean(ele) for ele in cat_per_age_group]\n",
    "avg_cat_per_age_group\n",
    "\n",
    "\n",
    "groups = ['0s', '10s', '20s', '30s', '40s', '50s', '60s', '70s', '80s', '90s']\n",
    "plt.bar(groups, avg_cat_per_age_group)\n",
    "plt.show()\n",
    "plt.boxplot(cat_per_age_group)\n",
    "plt.show()"
   ]
  },
  {
   "cell_type": "code",
   "execution_count": 202,
   "metadata": {},
   "outputs": [],
   "source": [
    "import matplotlib.pyplot as plt\n",
    "correlation_list = []\n",
    "for lang in range(1, len(namingData)+1):\n",
    "    \n",
    "    age = [int(age_categories[lang][key][1]) for key in age_categories[lang]]\n",
    "    num = [age_categories[lang][key][0] for key in age_categories[lang]]\n",
    "    correlation_list.append(stats.pearsonr(age, num)[0])\n",
    "## report: individual language too little participants/datapoints"
   ]
  },
  {
   "cell_type": "code",
   "execution_count": 16,
   "metadata": {},
   "outputs": [
    {
     "data": {
      "image/png": "[encoded data removed]",
      "text/plain": [
       "<Figure size 432x288 with 1 Axes>"
      ]
     },
     "metadata": {},
     "output_type": "display_data"
    }
   ],
   "source": [
    "x = [i for i in range(1, len(namingData)+1)]\n",
    "plt.scatter(x, correlation_list)\n",
    "plt.show()"
   ]
  },
  {
   "cell_type": "code",
   "execution_count": null,
   "metadata": {},
   "outputs": [],
   "source": []
  }
 ],
 "metadata": {
  "kernelspec": {
   "display_name": "Python 3",
   "language": "python",
   "name": "python3"
  },
  "language_info": {
   "codemirror_mode": {
    "name": "ipython",
    "version": 3
   },
   "file_extension": ".py",
   "mimetype": "text/x-python",
   "name": "python",
   "nbconvert_exporter": "python",
   "pygments_lexer": "ipython3",
   "version": "3.6.5"
  }
 },
 "nbformat": 4,
 "nbformat_minor": 2
}
